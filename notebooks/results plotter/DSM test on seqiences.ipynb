{
 "cells": [
  {
   "cell_type": "code",
   "execution_count": null,
   "id": "1afe11ef-240c-47c5-82c2-931c92593c35",
   "metadata": {},
   "outputs": [],
   "source": [
    "cd ../../../src"
   ]
  },
  {
   "cell_type": "code",
   "execution_count": null,
   "id": "8e86d9a9-3b5a-4bdd-b311-0d47c516aafe",
   "metadata": {},
   "outputs": [],
   "source": [
    "import os\n",
    "import yaml\n",
    "import pickle\n",
    "import numpy as np\n",
    "import pandas as pd\n",
    "\n",
    "%load_ext autoreload\n",
    "%autoreload 2\n",
    "import warnings\n",
    "warnings.simplefilter(action='ignore', category=FutureWarning)\n",
    "    \n",
    "from visualisers.pattern_plotter_lasat import LasatPatternPlotter\n",
    "\n"
   ]
  },
  {
   "cell_type": "markdown",
   "id": "71438122-28ee-4483-909c-fbb83ba57b61",
   "metadata": {},
   "source": [
    "# Data"
   ]
  },
  {
   "cell_type": "code",
   "execution_count": null,
   "id": "130d2c45-7acc-43d8-ba82-6acddaccc8af",
   "metadata": {},
   "outputs": [],
   "source": [
    "with open('./configs/pattern_plot_config.yaml', 'r') as f:\n",
    "    settings = yaml.load(f, Loader=yaml.FullLoader)\n",
    "print(settings)"
   ]
  },
  {
   "cell_type": "code",
   "execution_count": null,
   "id": "a15e386b-788f-4368-80ff-1aaa6d80d9dc",
   "metadata": {},
   "outputs": [],
   "source": [
    "def plot(main, others, plot='DSM only', show=False):\n",
    "    settings['experiment']['keyword'] = ['lasat', 'dataset'] # put keywords that will for sure be in the path, and that will select the experiment you want in case you have several in the root\n",
    "    settings['experiment']['name'] = 'pattern-mining/name of the root'\n",
    "    settings['heatmap_groups'] = {\n",
    "        1: {\n",
    "            'main': main,\n",
    "            'others': others\n",
    "        }\n",
    "    }\n",
    "\n",
    "    if '0' in main or np.sum([1 if '0' in oo else 0 for oo in others]) > 0:\n",
    "        settings['plot']['cmap']['main'] = 'BuPu'\n",
    "        settings['plot']['cmap']['difference'] = 'BrBG'\n",
    "    else:\n",
    "        settings['plot']['cmap']['main'] = 'PuRd'\n",
    "        settings['plot']['cmap']['difference'] = 'PiYG'\n",
    "\n",
    "    if plot == 'DSM only':\n",
    "        settings['s_support'] = False\n",
    "        settings['differences'] = False\n",
    "        settings['dsm_plot'] = True\n",
    "        settings['overlap'] = True\n",
    "        settings['i-supports'] = False\n",
    "    elif plot == 'i-support':\n",
    "        settings['s_support'] = False\n",
    "        settings['differences'] = False\n",
    "        settings['dsm_plot'] = False\n",
    "        settings['overlap'] = False\n",
    "        settings['i-supports'] = True\n",
    "    else:\n",
    "        settings['s_support'] = True\n",
    "        settings['differences'] = True\n",
    "        settings['dsm_plot'] = True\n",
    "        settings['overlap'] = True\n",
    "        settings['i-supports'] = False\n",
    "\n",
    "    settings['show'] = show\n",
    "\n",
    "    plotter = LasatPatternPlotter(settings)\n",
    "    plotter.get_heatmaps()\n",
    "    print('Comparing {} with {}'.format(main, others))"
   ]
  },
  {
   "cell_type": "markdown",
   "id": "20b47a11-76fc-4a24-9c0b-15dcd74e0c36",
   "metadata": {},
   "source": [
    "## Same language different levels"
   ]
  },
  {
   "cell_type": "code",
   "execution_count": null,
   "id": "a6a50310-5d32-4024-8a26-1c0b30637b54",
   "metadata": {},
   "outputs": [],
   "source": [
    "false_positive = 'pred1.label0'\n",
    "false_negative = 'pred0.label1'"
   ]
  },
  {
   "cell_type": "code",
   "execution_count": null,
   "id": "56765911-01e3-4bff-9662-63323785ccab",
   "metadata": {},
   "outputs": [],
   "source": [
    "settings['dsm']['pvalue'] = 0.05\n",
    "plot(false_positive, ['language.label0'], 'DSM only')\n",
    "plot('LANGUAGE.label0', [false_positive], 'DSM only')\n"
   ]
  },
  {
   "cell_type": "code",
   "execution_count": null,
   "id": "358a5d2f-0b69-415c-b1b9-0cc15f418183",
   "metadata": {},
   "outputs": [],
   "source": []
  },
  {
   "cell_type": "code",
   "execution_count": null,
   "id": "217ed34a-52b3-4a7b-867c-ce21320c46b7",
   "metadata": {},
   "outputs": [],
   "source": []
  },
  {
   "cell_type": "code",
   "execution_count": null,
   "id": "5d343cbb-9c82-49b9-986d-b7fbbb0bd27b",
   "metadata": {},
   "outputs": [],
   "source": []
  },
  {
   "cell_type": "code",
   "execution_count": null,
   "id": "73fbf647-fa3f-4adc-93b3-57d678ee7f2f",
   "metadata": {},
   "outputs": [],
   "source": []
  },
  {
   "cell_type": "code",
   "execution_count": null,
   "id": "27041c83-0f2b-4a74-80f7-daf331ff5bac",
   "metadata": {},
   "outputs": [],
   "source": []
  },
  {
   "cell_type": "code",
   "execution_count": null,
   "id": "a504dacf-f75c-4c94-8956-e821a54efbe2",
   "metadata": {},
   "outputs": [],
   "source": []
  },
  {
   "cell_type": "code",
   "execution_count": null,
   "id": "8ab5b2e8-44b5-4eef-98a8-8e70a9518d9e",
   "metadata": {},
   "outputs": [],
   "source": []
  },
  {
   "cell_type": "code",
   "execution_count": null,
   "id": "169646fc-f5ec-4754-a4c0-bf72c04289f1",
   "metadata": {},
   "outputs": [],
   "source": []
  }
 ],
 "metadata": {
  "kernelspec": {
   "display_name": "Python 3 (ipykernel)",
   "language": "python",
   "name": "python3"
  },
  "language_info": {
   "codemirror_mode": {
    "name": "ipython",
    "version": 3
   },
   "file_extension": ".py",
   "mimetype": "text/x-python",
   "name": "python",
   "nbconvert_exporter": "python",
   "pygments_lexer": "ipython3",
   "version": "3.10.12"
  }
 },
 "nbformat": 4,
 "nbformat_minor": 5
}
