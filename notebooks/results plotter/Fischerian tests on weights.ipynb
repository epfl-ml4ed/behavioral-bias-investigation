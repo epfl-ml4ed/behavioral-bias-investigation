{
 "cells": [
  {
   "cell_type": "markdown",
   "id": "ff311624-0832-4bd2-aa4c-07a5bf0379ad",
   "metadata": {},
   "source": [
    "This analyses the attention layer of the following network:\n",
    "\n",
    "input -> gru -> attention -> classification"
   ]
  },
  {
   "cell_type": "code",
   "execution_count": 1,
   "id": "7490b9d0-55b5-4c2d-b3ad-09ab2c43cf71",
   "metadata": {
    "execution": {
     "iopub.execute_input": "2024-02-20T01:02:04.270125Z",
     "iopub.status.busy": "2024-02-20T01:02:04.269605Z",
     "iopub.status.idle": "2024-02-20T01:02:04.278871Z",
     "shell.execute_reply": "2024-02-20T01:02:04.278043Z",
     "shell.execute_reply.started": "2024-02-20T01:02:04.270099Z"
    }
   },
   "outputs": [
    {
     "name": "stdout",
     "output_type": "stream",
     "text": [
      "[Errno 2] No such file or directory: '../../../src'\n",
      "/Users/cock/kDrive/PhD/Projects/labs/behavioral-bias-investigation/notebooks/results plotter\n"
     ]
    }
   ],
   "source": [
    "cd ../../../src"
   ]
  },
  {
   "cell_type": "markdown",
   "id": "54e9f502-a56a-4b68-ab58-53e2d46dc83d",
   "metadata": {},
   "source": [
    "Attention layer analysis from the \"only attention\" algorithm. "
   ]
  },
  {
   "cell_type": "code",
   "execution_count": 2,
   "id": "56d8e3ab-cd02-43e8-b69d-eb1cb82f3e8b",
   "metadata": {
    "execution": {
     "iopub.execute_input": "2024-02-20T01:02:05.983431Z",
     "iopub.status.busy": "2024-02-20T01:02:05.983107Z",
     "iopub.status.idle": "2024-02-20T01:02:06.004309Z",
     "shell.execute_reply": "2024-02-20T01:02:06.003674Z",
     "shell.execute_reply.started": "2024-02-20T01:02:05.983408Z"
    }
   },
   "outputs": [],
   "source": [
    "%load_ext autoreload\n",
    "%autoreload 2"
   ]
  },
  {
   "cell_type": "code",
   "execution_count": 3,
   "id": "2ff767e1-6562-4f09-8714-ef5db9822225",
   "metadata": {
    "execution": {
     "iopub.execute_input": "2024-02-20T01:02:06.696197Z",
     "iopub.status.busy": "2024-02-20T01:02:06.695759Z",
     "iopub.status.idle": "2024-02-20T01:02:07.052084Z",
     "shell.execute_reply": "2024-02-20T01:02:07.050805Z",
     "shell.execute_reply.started": "2024-02-20T01:02:06.696179Z"
    }
   },
   "outputs": [
    {
     "ename": "ModuleNotFoundError",
     "evalue": "No module named 'utils'",
     "output_type": "error",
     "traceback": [
      "\u001b[0;31m---------------------------------------------------------------------------\u001b[0m",
      "\u001b[0;31mModuleNotFoundError\u001b[0m                       Traceback (most recent call last)",
      "Cell \u001b[0;32mIn[3], line 4\u001b[0m\n\u001b[1;32m      2\u001b[0m \u001b[38;5;28;01mimport\u001b[39;00m \u001b[38;5;21;01mpickle\u001b[39;00m\n\u001b[1;32m      3\u001b[0m \u001b[38;5;28;01mimport\u001b[39;00m \u001b[38;5;21;01mnumpy\u001b[39;00m \u001b[38;5;28;01mas\u001b[39;00m \u001b[38;5;21;01mnp\u001b[39;00m\n\u001b[0;32m----> 4\u001b[0m \u001b[38;5;28;01mfrom\u001b[39;00m \u001b[38;5;21;01mutils\u001b[39;00m\u001b[38;5;21;01m.\u001b[39;00m\u001b[38;5;21;01mstatistical\u001b[39;00m \u001b[38;5;28;01mimport\u001b[39;00m fischer_mean\n\u001b[1;32m      6\u001b[0m \u001b[38;5;28;01mimport\u001b[39;00m \u001b[38;5;21;01mkeras\u001b[39;00m\n\u001b[1;32m      7\u001b[0m \u001b[38;5;28;01mimport\u001b[39;00m \u001b[38;5;21;01mtensorflow\u001b[39;00m \u001b[38;5;28;01mas\u001b[39;00m \u001b[38;5;21;01mtf\u001b[39;00m\n",
      "\u001b[0;31mModuleNotFoundError\u001b[0m: No module named 'utils'"
     ]
    }
   ],
   "source": [
    "import os\n",
    "import pickle\n",
    "import numpy as np\n",
    "from utils.statistical import fischer_mean\n",
    "\n",
    "import keras\n",
    "import tensorflow as tf\n",
    "from ml.models.classifiers.rnn_attention import RNNAttentionModel\n",
    "from sklearn.metrics import accuracy_score, balanced_accuracy_score, precision_score, recall_score, roc_auc_score, confusion_matrix\n",
    "from matplotlib import pyplot as plt"
   ]
  },
  {
   "cell_type": "markdown",
   "id": "895e5b84-b4d8-406f-84ef-9e94c1f8e35a",
   "metadata": {},
   "source": [
    "# Data"
   ]
  },
  {
   "cell_type": "code",
   "execution_count": 4,
   "id": "3233ce72-e72c-41d1-9b84-32221535f2b2",
   "metadata": {
    "execution": {
     "iopub.execute_input": "2024-02-19T17:08:14.797853Z",
     "iopub.status.busy": "2024-02-19T17:08:14.797405Z",
     "iopub.status.idle": "2024-02-19T17:08:14.979406Z",
     "shell.execute_reply": "2024-02-19T17:08:14.978584Z",
     "shell.execute_reply.started": "2024-02-19T17:08:14.797831Z"
    }
   },
   "outputs": [],
   "source": [
    "path = 'path/nonnested_xval_mltsattpt_lfull_modelseeds940.pkl'\n",
    "with open(path, 'rb') as fp:\n",
    "    res = pickle.load(fp)\n",
    "    \n",
    "    \n",
    "# sim dict pm\n",
    "sim_pm = 'path_to_demographics'\n",
    "with open(sim_pm, 'rb') as fp:\n",
    "    simpm = pickle.load(fp)\n"
   ]
  },
  {
   "cell_type": "code",
   "execution_count": 5,
   "id": "8848ff04-632e-46d6-99d5-1484b712a7ee",
   "metadata": {
    "execution": {
     "iopub.execute_input": "2024-02-19T17:08:14.980640Z",
     "iopub.status.busy": "2024-02-19T17:08:14.980331Z",
     "iopub.status.idle": "2024-02-19T17:08:15.048088Z",
     "shell.execute_reply": "2024-02-19T17:08:15.047429Z",
     "shell.execute_reply.started": "2024-02-19T17:08:14.980620Z"
    },
    "scrolled": true
   },
   "outputs": [
    {
     "name": "stdout",
     "output_type": "stream",
     "text": [
      "There are 10 files\n"
     ]
    }
   ],
   "source": [
    "exp_path = 'path/mrnn_attention_f10/2024_01_25_0/'\n",
    "experiment = []\n",
    "for (dirpath, _, filenames) in os.walk(exp_path):\n",
    "    files = [os.path.join(dirpath, file) for file in filenames]\n",
    "    experiment.extend(files)\n",
    "checkpoints = [cfile for cfile in experiment if cfile.endswith('model.pth')]\n",
    "checkpoints = np.unique(checkpoints)\n",
    "print('There are {} files'.format(len(checkpoints)))\n",
    "\n",
    "config = [exp for exp in experiment if 'config' in exp][0]\n",
    "with open(config, 'rb') as fp:\n",
    "    config = pickle.load(fp)\n",
    "    config['ml']['models']['maxlen'] = 619\n",
    "    config['n_classes'] = 2\n",
    "    config['experiment']['nclasses'] = 2\n"
   ]
  },
  {
   "cell_type": "code",
   "execution_count": 7,
   "id": "e1df40ce-7a88-4c13-bd94-af5196866099",
   "metadata": {
    "execution": {
     "iopub.execute_input": "2024-02-19T17:08:15.118787Z",
     "iopub.status.busy": "2024-02-19T17:08:15.118533Z",
     "iopub.status.idle": "2024-02-19T17:08:15.183468Z",
     "shell.execute_reply": "2024-02-19T17:08:15.182742Z",
     "shell.execute_reply.started": "2024-02-19T17:08:15.118767Z"
    }
   },
   "outputs": [],
   "source": [
    "# Return Attention weights\n",
    "def get_attention(model, x):\n",
    "    x_lengths = [len(xxx) for xxx in x]\n",
    "    xx, _ = model._format_features(x)\n",
    "    attention_weights = model.get_attention_outputs(xx)\n",
    "    assert len(attention_weights) == len(x_lengths)\n",
    "    return attention_weights, x_lengths\n"
   ]
  },
  {
   "cell_type": "code",
   "execution_count": 8,
   "id": "447f6e55-b7c3-477a-aed7-57869faaf8b3",
   "metadata": {
    "execution": {
     "iopub.execute_input": "2024-02-19T17:08:15.184710Z",
     "iopub.status.busy": "2024-02-19T17:08:15.184319Z",
     "iopub.status.idle": "2024-02-19T17:08:15.248561Z",
     "shell.execute_reply": "2024-02-19T17:08:15.247912Z",
     "shell.execute_reply.started": "2024-02-19T17:08:15.184690Z"
    }
   },
   "outputs": [],
   "source": [
    "# Maps\n",
    "attribute_to_shortcut = {\n",
    "    'attribute': {\n",
    "        'attb': 'minority',\n",
    "        'attn': 'minority',\n",
    "        'attn': 'attn'\n",
    "        \n",
    "    },\n",
    "    'vector_binary': {\n",
    "        '000': 'label0',\n",
    "        '001': 'label0',\n",
    "        '010': 'label0',\n",
    "        '100': 'label0',\n",
    "        '011': 'label1',\n",
    "        '101': 'label1',\n",
    "        '110': 'label1',\n",
    "        '111': 'label1'\n",
    "    },\n",
    "    'gender': {\n",
    "        1: 'male',\n",
    "        2: 'female',\n",
    "        3: 'genderminority',\n",
    "        4: 'genderminority'\n",
    "    },\n",
    "    'sa_gru':{\n",
    "        'sagru0': 'sagru0',\n",
    "        'sagru1': 'sagru1'\n",
    "    }\n",
    "}\n",
    "    "
   ]
  },
  {
   "cell_type": "code",
   "execution_count": 9,
   "id": "c60a70d2-cd1f-4cda-a918-126ce5ed18d9",
   "metadata": {
    "execution": {
     "iopub.execute_input": "2024-02-19T17:08:15.249919Z",
     "iopub.status.busy": "2024-02-19T17:08:15.249644Z",
     "iopub.status.idle": "2024-02-19T17:08:16.001008Z",
     "shell.execute_reply": "2024-02-19T17:08:16.000342Z",
     "shell.execute_reply.started": "2024-02-19T17:08:15.249899Z"
    },
    "scrolled": true
   },
   "outputs": [],
   "source": [
    "pre_path = '/Users/cock/kDrive/PhD/Projects/labs/behavioural-pattern-mining/experiments/pattern-mining/EDM24/beerslaw/gru_attention/datachemlab_beerslaw/mrnn_attention_f10/2024_01_25_0/'\n",
    "post_path = '/logger/ltsattpt/ctgru_nlayers1_ncells16_bs16_ep50/_model.pth'\n",
    "models = {\n",
    "    'all_ids': [],\n",
    "    'all_gender': [],\n",
    "    'all_gender_truth': [],\n",
    "    'all_lengths': [],\n",
    "    'all_sequences': [],\n",
    "    'all_truths' :[],\n",
    "    'all_attention_weights': [],\n",
    "    'all_predictions': [],\n",
    "    'all_prediction_truth': [],\n",
    "    'all_gender_prediction_truth': [],\n",
    "}\n",
    "for fold in range(10):\n",
    "    model_path = '{}{}{}'.format(pre_path, fold, post_path)\n",
    "    model = RNNAttentionModel(config)\n",
    "    model.load_model_weights(res['x'], model_path)\n",
    "    fold_input = [res['x'][idx] for idx in res[fold]['test_index']]\n",
    "    attention_weights, attention_lengths = get_attention(model, fold_input)\n",
    "    \n",
    "    models[fold] = {\n",
    "        'path': '{}{}{}'.format(pre_path, fold, post_path), \n",
    "        'model': model,\n",
    "        'input': fold_input,\n",
    "        'weights': attention_weights,\n",
    "        'gender': [simpm['sequences'][idx]['gender'] for idx in res[fold]['test_index']],\n",
    "        'language': [simpm['sequences'][idx]['language'].lower().replace('ç', 'c') for idx in res[fold]['test_index']]\n",
    "    }\n",
    "\n",
    "    models['all_ids'] = [*models['all_ids'], *[idx for idx in res[fold]['test_index']]]\n",
    "    models['all_lengths'] = [*models['all_lengths'], *attention_lengths]\n",
    "    models['all_sequences'] = [*models['all_sequences'], *fold_input]\n",
    "    models['all_attention_weights'] = [*models['all_attention_weights'], *attention_weights]\n",
    "    models['all_gender'] = [*\n",
    "                            models['all_gender'], \n",
    "                            *[attribute_to_shortcut['gender'][simpm['sequences'][idx]['gender']] for idx in res[fold]['test_index']]\n",
    "    ]\n",
    "    models['all_truths'] = [*models['all_truths'], *[attribute_to_shortcut['vector_binary'][simpm['sequences'][idx]['vector_binary']] for idx in res[fold]['test_index']]]\n",
    "    models['all_predictions'] = [*models['all_predictions'], *[attribute_to_shortcut['sa_gru'][simpm['sequences'][idx]['sa_gru']] for idx in res[fold]['test_index']]]\n",
    "    models['all_gender_truth'] = [\n",
    "        *models['all_gender_truth'], \n",
    "        *[\n",
    "            '{}_{}'.format(\n",
    "                attribute_to_shortcut['gender'][simpm['sequences'][idx]['gender']] ,\n",
    "                attribute_to_shortcut['vector_binary'][simpm['sequences'][idx]['vector_binary']]\n",
    "            ) for idx in res[fold]['test_index']\n",
    "        ]        \n",
    "    ]\n",
    "    models['all_prediction_truth'] = [\n",
    "        *models['all_prediction_truth'], \n",
    "        *[\n",
    "            '{}_{}'.format(\n",
    "                attribute_to_shortcut['sa_gru'][simpm['sequences'][idx]['sa_gru']],\n",
    "                attribute_to_shortcut['vector_binary'][simpm['sequences'][idx]['vector_binary']]\n",
    "            ) for idx in res[fold]['test_index']\n",
    "        ]        \n",
    "    ]\n",
    "    models['all_gender_prediction_truth'] = [\n",
    "        *models['all_gender_prediction_truth'], \n",
    "        *[\n",
    "            '{}_{}_{}'.format(\n",
    "                attribute_to_shortcut['gender'][simpm['sequences'][idx]['gender']] ,\n",
    "                attribute_to_shortcut['sa_gru'][simpm['sequences'][idx]['sa_gru']],\n",
    "                attribute_to_shortcut['vector_binary'][simpm['sequences'][idx]['vector_binary']]\n",
    "            ) for idx in res[fold]['test_index']\n",
    "        ]        \n",
    "    ]\n",
    "    \n",
    "    \n"
   ]
  },
  {
   "cell_type": "markdown",
   "id": "454d6aa6-d596-42d0-b0a5-f853f7a1aa20",
   "metadata": {},
   "source": [
    "# Attention Processing"
   ]
  },
  {
   "cell_type": "markdown",
   "id": "b5ad81f1-360f-4158-9b40-453fe0688d4d",
   "metadata": {},
   "source": [
    "# Five only one part of the feature"
   ]
  },
  {
   "cell_type": "markdown",
   "id": "f108bc73-d534-45fd-b9a2-0da371b0cae6",
   "metadata": {},
   "source": [
    "# Statistical Tests"
   ]
  },
  {
   "cell_type": "code",
   "execution_count": 10,
   "id": "53a6dfc2-430d-447c-9c2e-2cba9528b72d",
   "metadata": {
    "execution": {
     "iopub.execute_input": "2024-02-19T17:08:16.002517Z",
     "iopub.status.busy": "2024-02-19T17:08:16.002174Z",
     "iopub.status.idle": "2024-02-19T17:08:16.067200Z",
     "shell.execute_reply": "2024-02-19T17:08:16.066411Z",
     "shell.execute_reply.started": "2024-02-19T17:08:16.002496Z"
    }
   },
   "outputs": [],
   "source": [
    "weights = models"
   ]
  },
  {
   "cell_type": "code",
   "execution_count": 11,
   "id": "e8bdc569-b627-41e4-ac5f-c58848fc353d",
   "metadata": {
    "execution": {
     "iopub.execute_input": "2024-02-19T17:08:16.068762Z",
     "iopub.status.busy": "2024-02-19T17:08:16.068465Z",
     "iopub.status.idle": "2024-02-19T17:08:16.138096Z",
     "shell.execute_reply": "2024-02-19T17:08:16.137145Z",
     "shell.execute_reply.started": "2024-02-19T17:08:16.068738Z"
    }
   },
   "outputs": [],
   "source": [
    "colours = [\n",
    "    'orange', 'darkgoldenrod', 'darkkhaki', 'lightseagreen', \n",
    "    'steelblue', 'dodgerblue', 'lightsteelblue',\n",
    "    'slateblue', 'thistle', 'orchid', 'deeppink'\n",
    "]\n",
    "\n",
    "features = [\n",
    "    'greengreen',\n",
    "    'greenred',\n",
    "    'notgreennotred',\n",
    "    'noobserved',\n",
    "    'other',\n",
    "    'concentration',\n",
    "    'width',\n",
    "    'pdf',\n",
    "    'break',\n",
    "    'end_sequence'\n",
    "]\n",
    "\n",
    "char_map = {\n",
    "    'male': 'gender',\n",
    "    'female': 'gender',\n",
    "    'sagru0': 'prediction',\n",
    "    'sagru1': 'prediction',\n",
    "    'label0': 'truth',\n",
    "    'label1': 'truth'\n",
    "}"
   ]
  },
  {
   "cell_type": "code",
   "execution_count": 12,
   "id": "f0bb28d2-b874-4816-882c-97666b1a5b87",
   "metadata": {
    "execution": {
     "iopub.execute_input": "2024-02-19T17:08:16.139745Z",
     "iopub.status.busy": "2024-02-19T17:08:16.139411Z",
     "iopub.status.idle": "2024-02-19T17:08:16.221131Z",
     "shell.execute_reply": "2024-02-19T17:08:16.220515Z",
     "shell.execute_reply.started": "2024-02-19T17:08:16.139727Z"
    }
   },
   "outputs": [],
   "source": [
    "def get_indices_demographics(characteristics):\n",
    "    # Get demographics\n",
    "    characs = characteristics.split('.')\n",
    "    characteristics_list = [char_map[char] for char in characs]\n",
    "    char_sort = np.argsort(characteristics_list)\n",
    "    characteristics_list = [characteristics_list[idx_sort] for idx_sort in char_sort]\n",
    "    characteristics_list = '_'.join(characteristics_list)\n",
    "    characteristics_string = 'all_{}'.format(characteristics_list)\n",
    "\n",
    "    # attributes\n",
    "    characs = [characs[idx_sort] for idx_sort in char_sort]\n",
    "    attributes_string = '_'.join(characs)\n",
    "\n",
    "    indices = [\n",
    "        i for i in range(len(weights[characteristics_string]))\n",
    "        if weights[characteristics_string][i] == attributes_string\n",
    "    ]\n",
    "    \n",
    "    return indices"
   ]
  },
  {
   "cell_type": "code",
   "execution_count": 13,
   "id": "e0a632a8-63da-45af-baf5-55889072eb66",
   "metadata": {
    "execution": {
     "iopub.execute_input": "2024-02-19T17:08:16.222536Z",
     "iopub.status.busy": "2024-02-19T17:08:16.222313Z",
     "iopub.status.idle": "2024-02-19T17:08:16.293453Z",
     "shell.execute_reply": "2024-02-19T17:08:16.292534Z",
     "shell.execute_reply.started": "2024-02-19T17:08:16.222517Z"
    }
   },
   "outputs": [],
   "source": [
    "def statistical_test(weights_a, weights_b):\n",
    "    return fischer_mean(weights_a, weights_b) \n",
    "\n",
    "def distribution_attention_weights(weights_a, weights_b):\n",
    "    print('{} ATTENTION Weight Plots {}'.format('*' * 50, '*' * 50))\n",
    "    cols = np.random.choice(colours, size=2, replace=False)\n",
    "    n_features = len(weights_a[0])\n",
    "    wsa, wsb = [], []\n",
    "    for feature in range(n_features):\n",
    "        for student in weights_a:\n",
    "            wsa = [*wsa, *student[feature]]\n",
    "        for student in weights_b:\n",
    "            wsb = [*wsb, *student[feature]]\n",
    "\n",
    "        plt.figure(figsize=(12, 4))\n",
    "        plt.hist(wsa, bins=np.arange(0, 1.01, 0.01), color=cols[0], alpha=0.3, label='a', density=True)\n",
    "        plt.hist(wsb, bins=np.arange(0, 1.01, 0.01), color=cols[1], alpha=0.3, label='b', density=True)\n",
    "        p_value = statistical_test(wsa, wsb)\n",
    "        plt.title('Distribution of activation values for features {}\\n[p-value = {}]'.format(feature, p_value))\n",
    "        plt.legend()\n",
    "        plt.show()\n",
    "\n",
    "def pvalue_attention_weights(weights_a, weights_b, p_value_significance=0.05):\n",
    "    print('{} ATTENTION Weight Differences {}'.format('*' * 50, '*' * 50))\n",
    "    cols = np.random.choice(colours, size=2, replace=False)\n",
    "    plot_p_values = {}\n",
    "    p_value_count = 0\n",
    "    n_features = len(weights_a[0])\n",
    "    wsa, wsb = [], []\n",
    "    \n",
    "    for feature in range(n_features):\n",
    "        for student in weights_a:\n",
    "            wsa.append(student[feature])\n",
    "        for student in weights_b:\n",
    "            wsb.append(student[feature])\n",
    "            \n",
    "        p_value = statistical_test(wsa, wsb)\n",
    "        plot_p_values[feature] = p_value\n",
    "        if p_value <= p_value_significance:\n",
    "            print('difference between a and b with feature {} [{}]'.format(feature, p_value))\n",
    "            p_value_count += 1\n",
    "    print('Total difference: {}'.format(p_value_count))\n",
    "    return p_value_count\n",
    "\n",
    "def compare(char_a, char_b, plot_insteadof_print=False, pvalue_significant=0.05):\n",
    "    print('Comparing students for group:')\n",
    "    print('   group A: {}'.format(\n",
    "        ' '.join(char_a.split('.'))\n",
    "    ))\n",
    "    print('   group B: {}'.format(\n",
    "        ' '.join(char_b.split('.'))\n",
    "    ))\n",
    "\n",
    "    indices_a = get_indices_demographics(char_a)\n",
    "    indices_b = get_indices_demographics(char_b)\n",
    "\n",
    "    weights_a = [weights['all_attention_weights'][idxa] for idxa in indices_a]\n",
    "    weights_b = [weights['all_attention_weights'][idxb] for idxb in indices_b]\n",
    "\n",
    "    \n",
    "\n",
    "    if plot_insteadof_print:\n",
    "        distribution_attention_weights(weights_a, weights_b)\n",
    "    else:\n",
    "        pvalue_attention_weights(weights_a, weights_b, pvalue_significant)\n"
   ]
  },
  {
   "cell_type": "markdown",
   "id": "3a3eb570-d8df-4680-a25b-b925d7582f91",
   "metadata": {},
   "source": [
    "## No correction"
   ]
  },
  {
   "cell_type": "code",
   "execution_count": 14,
   "id": "d2da3e80-e09e-4042-9bcb-337a2c8a6b1b",
   "metadata": {
    "execution": {
     "iopub.execute_input": "2024-02-19T17:08:16.294882Z",
     "iopub.status.busy": "2024-02-19T17:08:16.294492Z",
     "iopub.status.idle": "2024-02-19T17:15:34.648411Z",
     "shell.execute_reply": "2024-02-19T17:15:34.647096Z",
     "shell.execute_reply.started": "2024-02-19T17:08:16.294864Z"
    }
   },
   "outputs": [
    {
     "name": "stdout",
     "output_type": "stream",
     "text": [
      "Comparing students for group:\n",
      "   group A: female label1\n",
      "   group B: female label0\n",
      "************************************************** ATTENTION Weight Differences **************************************************\n",
      "Total difference: 0\n"
     ]
    }
   ],
   "source": [
    "compare('female.label1', 'female.label0', pvalue_significant=0.05)"
   ]
  },
  {
   "cell_type": "code",
   "execution_count": null,
   "id": "526bdbbf-7878-4c73-9322-74bf5e3948be",
   "metadata": {
    "execution": {
     "iopub.execute_input": "2024-02-20T00:54:26.436427Z",
     "iopub.status.busy": "2024-02-20T00:54:26.436085Z"
    }
   },
   "outputs": [
    {
     "name": "stdout",
     "output_type": "stream",
     "text": [
      "Comparing students for group:\n",
      "   group A: male label1\n",
      "   group B: male label0\n",
      "************************************************** ATTENTION Weight Differences **************************************************\n"
     ]
    }
   ],
   "source": [
    "compare('male.label1', 'male.label0', pvalue_significant=0.05)"
   ]
  },
  {
   "cell_type": "code",
   "execution_count": null,
   "id": "76019e31-8720-4621-b38e-7e5eaf6bf1de",
   "metadata": {},
   "outputs": [],
   "source": [
    "compare('female.label1', 'male.label1', pvalue_significant=0.05)"
   ]
  },
  {
   "cell_type": "code",
   "execution_count": null,
   "id": "8f56cc14-c7a4-4209-b587-c56cc15929c1",
   "metadata": {},
   "outputs": [],
   "source": [
    "compare('female.label0', 'male.label0', pvalue_significant=0.05)"
   ]
  },
  {
   "cell_type": "code",
   "execution_count": null,
   "id": "925d3e97-14e1-41a7-ad15-60e5b180e61d",
   "metadata": {},
   "outputs": [],
   "source": []
  },
  {
   "cell_type": "code",
   "execution_count": null,
   "id": "bf7387bc-5def-4741-8544-18cd428d55be",
   "metadata": {},
   "outputs": [],
   "source": []
  },
  {
   "cell_type": "code",
   "execution_count": null,
   "id": "c19bb917-aefb-42fb-8985-99e8f4183ce4",
   "metadata": {},
   "outputs": [],
   "source": []
  },
  {
   "cell_type": "code",
   "execution_count": null,
   "id": "e9094ec8-d3ba-48c2-980f-a6e0cd29936e",
   "metadata": {},
   "outputs": [],
   "source": []
  },
  {
   "cell_type": "code",
   "execution_count": null,
   "id": "b8ada4af-2662-4b56-bef5-b45f83c07b58",
   "metadata": {},
   "outputs": [],
   "source": []
  },
  {
   "cell_type": "code",
   "execution_count": null,
   "id": "5d8f6f3f-8bed-43cd-8ac4-711fe6ecc3f3",
   "metadata": {},
   "outputs": [],
   "source": []
  },
  {
   "cell_type": "code",
   "execution_count": null,
   "id": "a504540c-0563-44c7-a893-a3d59bf752f9",
   "metadata": {},
   "outputs": [],
   "source": []
  },
  {
   "cell_type": "code",
   "execution_count": null,
   "id": "4f2304bd-206f-46f5-8c20-56dfd08e3c08",
   "metadata": {},
   "outputs": [],
   "source": []
  },
  {
   "cell_type": "code",
   "execution_count": null,
   "id": "cbfea501-49a2-4975-93de-192a004227f5",
   "metadata": {},
   "outputs": [],
   "source": []
  },
  {
   "cell_type": "code",
   "execution_count": null,
   "id": "34165a6e-ffc0-426a-8bf1-390a32628946",
   "metadata": {},
   "outputs": [],
   "source": []
  },
  {
   "cell_type": "code",
   "execution_count": null,
   "id": "32dde54a-365e-41da-8a20-5e9bf5afc905",
   "metadata": {},
   "outputs": [],
   "source": []
  },
  {
   "cell_type": "code",
   "execution_count": null,
   "id": "c16cef9b-0e24-43f7-b51a-60504e6f7261",
   "metadata": {},
   "outputs": [],
   "source": []
  },
  {
   "cell_type": "code",
   "execution_count": null,
   "id": "6b27def0-a6d2-4f33-8b65-bd0d01463ed3",
   "metadata": {},
   "outputs": [],
   "source": []
  },
  {
   "cell_type": "code",
   "execution_count": null,
   "id": "4183566e-d0b5-4a8b-94fc-788b85dc0436",
   "metadata": {},
   "outputs": [],
   "source": []
  },
  {
   "cell_type": "code",
   "execution_count": null,
   "id": "8b8c0626-cc5b-415d-9866-e82699048e09",
   "metadata": {},
   "outputs": [],
   "source": []
  },
  {
   "cell_type": "code",
   "execution_count": null,
   "id": "e5804a97-6986-4312-9c56-1bdddae7b72e",
   "metadata": {},
   "outputs": [],
   "source": []
  },
  {
   "cell_type": "code",
   "execution_count": null,
   "id": "d4e06c80-2336-4afa-8f28-77ef185993af",
   "metadata": {},
   "outputs": [],
   "source": []
  }
 ],
 "metadata": {
  "kernelspec": {
   "display_name": "Python 3 (ipykernel)",
   "language": "python",
   "name": "python3"
  },
  "language_info": {
   "codemirror_mode": {
    "name": "ipython",
    "version": 3
   },
   "file_extension": ".py",
   "mimetype": "text/x-python",
   "name": "python",
   "nbconvert_exporter": "python",
   "pygments_lexer": "ipython3",
   "version": "3.10.12"
  }
 },
 "nbformat": 4,
 "nbformat_minor": 5
}
